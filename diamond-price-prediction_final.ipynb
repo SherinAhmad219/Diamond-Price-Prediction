{
 "cells": [
  {
   "cell_type": "markdown",
   "metadata": {
    "id": "4uUrhjLF275b"
   },
   "source": [
    "#  **Import all basic libraries**\n"
   ]
  },
  {
   "cell_type": "code",
   "execution_count": null,
   "metadata": {
    "execution": {
     "iopub.execute_input": "2022-05-06T11:11:31.764272Z",
     "iopub.status.busy": "2022-05-06T11:11:31.763600Z",
     "iopub.status.idle": "2022-05-06T11:11:31.778092Z",
     "shell.execute_reply": "2022-05-06T11:11:31.777359Z",
     "shell.execute_reply.started": "2022-05-06T11:11:31.764231Z"
    },
    "id": "z04n3wTa275l"
   },
   "outputs": [],
   "source": [
    "import numpy as np \n",
    "from numpy import asarray\n",
    "import pandas as pd \n",
    "import matplotlib.pyplot as plt\n",
    "import seaborn as sns\n",
    "%matplotlib inline\n",
    "import missingno as msno\n",
    "\n",
    "from sklearn import preprocessing\n",
    "from sklearn.preprocessing import OrdinalEncoder\n",
    "from sklearn.preprocessing import LabelEncoder\n",
    "from sklearn.preprocessing import OneHotEncoder\n",
    "from sklearn.impute import SimpleImputer\n",
    "from sklearn.pipeline import Pipeline\n",
    "from sklearn.preprocessing import StandardScaler, MinMaxScaler\n",
    "\n",
    "from sklearn.model_selection import train_test_split\n",
    "from sklearn.metrics import mean_squared_error\n",
    "\n",
    "from sklearn.linear_model import LinearRegression\n",
    "from sklearn.linear_model import Ridge\n",
    "from sklearn.linear_model import TweedieRegressor\n",
    "from sklearn.linear_model import Lasso\n",
    "from sklearn.cross_decomposition import PLSRegression\n",
    "from sklearn.neural_network import MLPRegressor\n",
    "from sklearn.linear_model import SGDRegressor\n",
    "from sklearn.tree import DecisionTreeRegressor \n",
    "from sklearn.ensemble import RandomForestRegressor\n",
    "from sklearn.neighbors import KNeighborsRegressor\n",
    "from sklearn.svm import SVR\n",
    "from sklearn.ensemble import AdaBoostRegressor\n",
    "from sklearn.ensemble import GradientBoostingRegressor\n",
    "from xgboost import XGBRegressor\n",
    "\n",
    "from sklearn.model_selection import cross_val_score\n",
    "from sklearn.model_selection import GridSearchCV"
   ]
  },
  {
   "cell_type": "markdown",
   "metadata": {
    "id": "HvY1bJPF275s"
   },
   "source": [
    "# **Get the data**\n"
   ]
  },
  {
   "cell_type": "code",
   "execution_count": null,
   "metadata": {
    "execution": {
     "iopub.execute_input": "2022-05-06T11:12:08.454814Z",
     "iopub.status.busy": "2022-05-06T11:12:08.454515Z",
     "iopub.status.idle": "2022-05-06T11:12:08.520217Z",
     "shell.execute_reply": "2022-05-06T11:12:08.519446Z",
     "shell.execute_reply.started": "2022-05-06T11:12:08.454784Z"
    },
    "id": "6BTgiPTa275t",
    "outputId": "384b7505-4d02-4fc2-c6e2-8f2f0b82b767"
   },
   "outputs": [],
   "source": [
    "train_df = pd.read_csv(\"Data/train.csv\")\n",
    "train_df.head()"
   ]
  },
  {
   "cell_type": "code",
   "execution_count": null,
   "metadata": {
    "execution": {
     "iopub.execute_input": "2022-05-06T11:12:08.695538Z",
     "iopub.status.busy": "2022-05-06T11:12:08.695232Z",
     "iopub.status.idle": "2022-05-06T11:12:08.724319Z",
     "shell.execute_reply": "2022-05-06T11:12:08.723487Z",
     "shell.execute_reply.started": "2022-05-06T11:12:08.695506Z"
    },
    "id": "sv1VlxPv275u",
    "outputId": "de6d316f-91bc-498b-dd27-a0513cfa6269"
   },
   "outputs": [],
   "source": [
    "test_df = pd.read_csv(\"Data/test.csv\")\n",
    "test_df.head()"
   ]
  },
  {
   "cell_type": "code",
   "execution_count": null,
   "metadata": {
    "execution": {
     "iopub.execute_input": "2022-05-06T11:11:39.010468Z",
     "iopub.status.busy": "2022-05-06T11:11:39.009794Z",
     "iopub.status.idle": "2022-05-06T11:11:39.016552Z",
     "shell.execute_reply": "2022-05-06T11:11:39.015660Z",
     "shell.execute_reply.started": "2022-05-06T11:11:39.010421Z"
    },
    "id": "xuVOWOXc275v",
    "outputId": "af447adb-9c2c-494b-932b-7b6369028bd9"
   },
   "outputs": [],
   "source": [
    "train_df.shape"
   ]
  },
  {
   "cell_type": "code",
   "execution_count": null,
   "metadata": {
    "execution": {
     "iopub.execute_input": "2022-05-06T11:11:42.224929Z",
     "iopub.status.busy": "2022-05-06T11:11:42.224103Z",
     "iopub.status.idle": "2022-05-06T11:11:42.255463Z",
     "shell.execute_reply": "2022-05-06T11:11:42.254542Z",
     "shell.execute_reply.started": "2022-05-06T11:11:42.224883Z"
    },
    "id": "OMS-ug_P275x",
    "outputId": "9b66fbad-7ec9-4b7d-dc5d-36f1156bb0c0"
   },
   "outputs": [],
   "source": [
    "train_df.info()"
   ]
  },
  {
   "cell_type": "markdown",
   "metadata": {
    "id": "1m9LuwJJMVZr"
   },
   "source": [
    "notice type price is int "
   ]
  },
  {
   "cell_type": "code",
   "execution_count": null,
   "metadata": {
    "execution": {
     "iopub.execute_input": "2022-05-06T11:11:54.165381Z",
     "iopub.status.busy": "2022-05-06T11:11:54.164833Z",
     "iopub.status.idle": "2022-05-06T11:11:54.169934Z",
     "shell.execute_reply": "2022-05-06T11:11:54.169338Z",
     "shell.execute_reply.started": "2022-05-06T11:11:54.165334Z"
    },
    "id": "fkWaW_8IMcOW"
   },
   "outputs": [],
   "source": [
    "# train_df['price'] = train_df['price'].astype(float)"
   ]
  },
  {
   "cell_type": "markdown",
   "metadata": {
    "id": "YaQIBs1aPhJl"
   },
   "source": [
    "Checking the summary statistics."
   ]
  },
  {
   "cell_type": "code",
   "execution_count": null,
   "metadata": {
    "execution": {
     "iopub.execute_input": "2022-05-06T11:12:11.553709Z",
     "iopub.status.busy": "2022-05-06T11:12:11.553436Z",
     "iopub.status.idle": "2022-05-06T11:12:11.606434Z",
     "shell.execute_reply": "2022-05-06T11:12:11.605158Z",
     "shell.execute_reply.started": "2022-05-06T11:12:11.553681Z"
    },
    "id": "HobCYEZx275z",
    "outputId": "55afe819-32dd-4844-d9a0-0fb062f87123"
   },
   "outputs": [],
   "source": [
    "train_df.describe()"
   ]
  },
  {
   "cell_type": "markdown",
   "metadata": {
    "id": "A6grY0d82750"
   },
   "source": [
    "we can see the Min. Values of X, Y and Z. It can't be possible..!!\n",
    "\n",
    "It doesn't make any sense to have either of Length or Width or Height to be zero.."
   ]
  },
  {
   "cell_type": "code",
   "execution_count": null,
   "metadata": {
    "execution": {
     "iopub.execute_input": "2022-05-06T11:12:13.318717Z",
     "iopub.status.busy": "2022-05-06T11:12:13.318453Z",
     "iopub.status.idle": "2022-05-06T11:12:13.343033Z",
     "shell.execute_reply": "2022-05-06T11:12:13.342186Z",
     "shell.execute_reply.started": "2022-05-06T11:12:13.318689Z"
    },
    "id": "vUpB3Fi52752",
    "outputId": "6463951e-48f2-4a80-d49b-74593bcec955"
   },
   "outputs": [],
   "source": [
    "train_df.nunique()"
   ]
  },
  {
   "cell_type": "markdown",
   "metadata": {
    "id": "98cVn9x12754"
   },
   "source": [
    "## Features\n",
    "* **Carat : ** Carat weight of the Diamond.\n",
    "* **Cut : ** Describe cut quality of the diamond. * Quality in increasing order Fair, Good, Very Good, Premium, Ideal .\n",
    "* **Color : ** Color of the Diamond. * With D being the best and J the worst.\n",
    "* **Clarity : ** Diamond Clarity refers to the absence of the Inclusions and Blemishes. * (In order from Best to Worst, FL = flawless, I3= level 3 inclusions) FL, IF, VVS1, VVS2, VS1, VS2, SI1, SI2, I1, I2, I3\n",
    "* **Depth : ** The Height of a Diamond, measured from the Culet to the table, divided by its average Girdle Diameter.\n",
    "* **Table : ** The Width of the Diamond's Table expressed as a Percentage of its Average Diameter.\n",
    "* **Price : ** the Price of the Diamond.\n",
    "* **X : ** Length of the Diamond in mm.\n",
    "* **Y : ** Width of the Diamond in mm.\n",
    "* **Z : ** Height of the Diamond in mm.\n",
    "\n",
    "*Qualitative Features (Categorical) : Cut, Color, Clarity. *\n",
    "\n",
    "*Quantitative Features (Numerical) : Carat, Depth , Table , Price , X , Y, Z.*\n",
    "\n",
    "\n",
    "### Price is the Target Variable."
   ]
  },
  {
   "cell_type": "markdown",
   "metadata": {
    "id": "XiABtpYl2756"
   },
   "source": [
    "# check if any null values in data and any duplicated data\n"
   ]
  },
  {
   "cell_type": "code",
   "execution_count": null,
   "metadata": {
    "execution": {
     "iopub.execute_input": "2022-05-06T11:12:19.648322Z",
     "iopub.status.busy": "2022-05-06T11:12:19.648015Z",
     "iopub.status.idle": "2022-05-06T11:12:19.661814Z",
     "shell.execute_reply": "2022-05-06T11:12:19.661307Z",
     "shell.execute_reply.started": "2022-05-06T11:12:19.648270Z"
    },
    "id": "4dnL-6SG2757",
    "outputId": "98c7790c-3763-46bb-aefd-c66178cfaf96"
   },
   "outputs": [],
   "source": [
    "train_df.isnull().sum()"
   ]
  },
  {
   "cell_type": "code",
   "execution_count": null,
   "metadata": {
    "execution": {
     "iopub.execute_input": "2022-05-06T11:12:19.922419Z",
     "iopub.status.busy": "2022-05-06T11:12:19.922134Z",
     "iopub.status.idle": "2022-05-06T11:12:20.565673Z",
     "shell.execute_reply": "2022-05-06T11:12:20.564628Z",
     "shell.execute_reply.started": "2022-05-06T11:12:19.922385Z"
    },
    "id": "p7lgooxx2758",
    "outputId": "560377bc-df62-49b0-f388-7d7639d54963"
   },
   "outputs": [],
   "source": [
    "msno.matrix(train_df) "
   ]
  },
  {
   "cell_type": "markdown",
   "metadata": {
    "id": "Yc7o4GvF275-"
   },
   "source": [
    "there are no NaN values."
   ]
  },
  {
   "cell_type": "code",
   "execution_count": null,
   "metadata": {
    "id": "Wva2PhX2275-",
    "outputId": "38cc0113-9929-40ce-e21e-d1b417910282"
   },
   "outputs": [],
   "source": [
    "train_df.duplicated().sum()"
   ]
  },
  {
   "cell_type": "code",
   "execution_count": null,
   "metadata": {
    "id": "GBqjKyxK275_",
    "outputId": "785c6238-73aa-4d3c-e3a0-b4156841e3a7"
   },
   "outputs": [],
   "source": [
    "len(train_df[(train_df['x']==0) | (train_df['y']==0) | (train_df['z']==0)])"
   ]
  },
  {
   "cell_type": "code",
   "execution_count": null,
   "metadata": {
    "id": "MUaaKfk9HneZ",
    "outputId": "c024a036-7341-47eb-8075-1f1035d4ae11"
   },
   "outputs": [],
   "source": [
    "len(test_df[(test_df['x']==0) | (test_df['y']==0) | (test_df['z']==0)])"
   ]
  },
  {
   "cell_type": "code",
   "execution_count": null,
   "metadata": {
    "id": "vKUkOJm9276A",
    "outputId": "0ef60865-54fd-4296-d404-40bb185b28cb"
   },
   "outputs": [],
   "source": [
    "train_df.columns"
   ]
  },
  {
   "cell_type": "code",
   "execution_count": null,
   "metadata": {
    "execution": {
     "iopub.execute_input": "2022-05-06T11:13:30.019228Z",
     "iopub.status.busy": "2022-05-06T11:13:30.018962Z",
     "iopub.status.idle": "2022-05-06T11:13:30.026071Z",
     "shell.execute_reply": "2022-05-06T11:13:30.024958Z",
     "shell.execute_reply.started": "2022-05-06T11:13:30.019201Z"
    }
   },
   "outputs": [],
   "source": [
    "s = (train_df.dtypes !=\"object\")\n",
    "object_cols = list(s[s].index)\n",
    "print(\"Numerical variables:\")\n",
    "print(object_cols)"
   ]
  },
  {
   "cell_type": "code",
   "execution_count": null,
   "metadata": {
    "execution": {
     "iopub.execute_input": "2022-05-06T11:13:30.577411Z",
     "iopub.status.busy": "2022-05-06T11:13:30.576470Z",
     "iopub.status.idle": "2022-05-06T11:13:30.583410Z",
     "shell.execute_reply": "2022-05-06T11:13:30.582656Z",
     "shell.execute_reply.started": "2022-05-06T11:13:30.577354Z"
    },
    "id": "m56hNXH7Ifzj",
    "outputId": "fadeded2-ec42-48d8-b8a3-5324622e27bf"
   },
   "outputs": [],
   "source": [
    "s = (train_df.dtypes ==\"object\")\n",
    "object_cols = list(s[s].index)\n",
    "print(\"Categorical variables:\")\n",
    "print(object_cols)"
   ]
  },
  {
   "cell_type": "code",
   "execution_count": null,
   "metadata": {
    "execution": {
     "iopub.execute_input": "2022-05-06T11:13:39.548761Z",
     "iopub.status.busy": "2022-05-06T11:13:39.548506Z",
     "iopub.status.idle": "2022-05-06T11:13:39.561317Z",
     "shell.execute_reply": "2022-05-06T11:13:39.560373Z",
     "shell.execute_reply.started": "2022-05-06T11:13:39.548733Z"
    },
    "id": "1E6eHddO276B",
    "outputId": "59329492-f455-4e6c-d009-53d42414bfbe"
   },
   "outputs": [],
   "source": [
    "print(f\"number of cut we have {train_df.cut.nunique()}\")\n",
    "print(f\"unique cut we have \\n {train_df.cut.unique()}\")"
   ]
  },
  {
   "cell_type": "code",
   "execution_count": null,
   "metadata": {
    "execution": {
     "iopub.execute_input": "2022-05-06T11:13:39.857804Z",
     "iopub.status.busy": "2022-05-06T11:13:39.857520Z",
     "iopub.status.idle": "2022-05-06T11:13:39.867753Z",
     "shell.execute_reply": "2022-05-06T11:13:39.866679Z",
     "shell.execute_reply.started": "2022-05-06T11:13:39.857764Z"
    },
    "id": "zJgi6kxn276B",
    "outputId": "4764b3a1-e095-4861-91df-96a6c52937da"
   },
   "outputs": [],
   "source": [
    "print(f\"number of color we have {train_df.color.nunique()}\")\n",
    "print(f\"unique color we have \\n {train_df.color.unique()}\")"
   ]
  },
  {
   "cell_type": "code",
   "execution_count": null,
   "metadata": {
    "execution": {
     "iopub.execute_input": "2022-05-06T11:13:40.162123Z",
     "iopub.status.busy": "2022-05-06T11:13:40.161670Z",
     "iopub.status.idle": "2022-05-06T11:13:40.172518Z",
     "shell.execute_reply": "2022-05-06T11:13:40.171516Z",
     "shell.execute_reply.started": "2022-05-06T11:13:40.162083Z"
    },
    "id": "cWDVDb9C276C",
    "outputId": "3911561a-4569-488b-a579-9f0291693fef"
   },
   "outputs": [],
   "source": [
    "print(f\"number of clarity we have {train_df.clarity.nunique()}\")\n",
    "print(f\"unique clarity we have \\n {train_df.clarity.unique()}\")"
   ]
  },
  {
   "cell_type": "markdown",
   "metadata": {
    "id": "j0v_Ggv9276D"
   },
   "source": [
    "# Visual Exploratory Data Analysis\n"
   ]
  },
  {
   "cell_type": "code",
   "execution_count": null,
   "metadata": {
    "execution": {
     "iopub.execute_input": "2022-05-06T11:13:44.038139Z",
     "iopub.status.busy": "2022-05-06T11:13:44.037844Z",
     "iopub.status.idle": "2022-05-06T11:13:45.228361Z",
     "shell.execute_reply": "2022-05-06T11:13:45.227666Z",
     "shell.execute_reply.started": "2022-05-06T11:13:44.038103Z"
    },
    "id": "amCVuQKP276D",
    "outputId": "7d5b0ef0-8bed-4242-c772-7e8d469274f8",
    "scrolled": true
   },
   "outputs": [],
   "source": [
    "train_df.hist(['price','carat', 'depth', 'table', 'x','y','z'], figsize=(20,10))"
   ]
  },
  {
   "cell_type": "code",
   "execution_count": null,
   "metadata": {
    "execution": {
     "iopub.execute_input": "2022-05-06T11:13:45.229955Z",
     "iopub.status.busy": "2022-05-06T11:13:45.229621Z",
     "iopub.status.idle": "2022-05-06T11:14:06.144813Z",
     "shell.execute_reply": "2022-05-06T11:14:06.143938Z",
     "shell.execute_reply.started": "2022-05-06T11:13:45.229925Z"
    },
    "id": "YuZQPstp276E",
    "outputId": "e416279b-8249-45ad-ecab-2006f5879adb",
    "scrolled": true
   },
   "outputs": [],
   "source": [
    "sns.pairplot(train_df , diag_kind = 'kde');\n"
   ]
  },
  {
   "cell_type": "code",
   "execution_count": null,
   "metadata": {
    "execution": {
     "iopub.execute_input": "2022-05-06T11:14:06.146486Z",
     "iopub.status.busy": "2022-05-06T11:14:06.146083Z",
     "iopub.status.idle": "2022-05-06T11:14:06.564258Z",
     "shell.execute_reply": "2022-05-06T11:14:06.563369Z",
     "shell.execute_reply.started": "2022-05-06T11:14:06.146450Z"
    },
    "id": "vHSelJ1W276E",
    "outputId": "3a6de460-acd8-4145-f261-0555a3d42188"
   },
   "outputs": [],
   "source": [
    "sns.factorplot(data=train_df , kind='box' , size=7, aspect=2.5)"
   ]
  },
  {
   "cell_type": "markdown",
   "metadata": {
    "id": "1kxeSgQY276F"
   },
   "source": [
    "The Values are Distributed over a Small Scale"
   ]
  },
  {
   "cell_type": "code",
   "execution_count": null,
   "metadata": {
    "execution": {
     "iopub.execute_input": "2022-05-06T11:17:40.953184Z",
     "iopub.status.busy": "2022-05-06T11:17:40.952886Z",
     "iopub.status.idle": "2022-05-06T11:17:41.708962Z",
     "shell.execute_reply": "2022-05-06T11:17:41.708017Z",
     "shell.execute_reply.started": "2022-05-06T11:17:40.953147Z"
    },
    "id": "MHMep9YaJCU5",
    "outputId": "67e09659-5331-4932-e381-1a32c3ab78a6"
   },
   "outputs": [],
   "source": [
    "num_cols = train_df.keys()\n",
    "for i in num_cols:\n",
    "    if train_df[i].dtypes !=\"object\":\n",
    "      plt.figure(figsize=(7,4))\n",
    "      sns.boxplot(x=train_df[i],palette=\"Set2\");\n",
    "      plt.show()"
   ]
  },
  {
   "cell_type": "code",
   "execution_count": null,
   "metadata": {
    "execution": {
     "iopub.execute_input": "2022-05-06T11:17:42.253014Z",
     "iopub.status.busy": "2022-05-06T11:17:42.252096Z",
     "iopub.status.idle": "2022-05-06T11:17:42.860615Z",
     "shell.execute_reply": "2022-05-06T11:17:42.859945Z",
     "shell.execute_reply.started": "2022-05-06T11:17:42.252972Z"
    },
    "id": "OZo0FauuIxJh",
    "outputId": "24ea400d-2c7e-43ab-a596-40fb33e65972"
   },
   "outputs": [],
   "source": [
    "for c in object_cols:\n",
    "    plt.figure(figsize=(8,5))\n",
    "    \n",
    "    sns.countplot(x = train_df[c].to_numpy(),palette =\"Set3\")\n",
    "    plt.show()\n",
    "    print(train_df[c] .value_counts())\n",
    "    print(\"-\"*25)"
   ]
  },
  {
   "cell_type": "markdown",
   "metadata": {
    "id": "1XP1sE_O276F"
   },
   "source": [
    "# Visualization every feature"
   ]
  },
  {
   "cell_type": "markdown",
   "metadata": {
    "id": "itmaOsgYJ1lc"
   },
   "source": [
    "# carat\n",
    "\n",
    "\n",
    "\n"
   ]
  },
  {
   "cell_type": "code",
   "execution_count": null,
   "metadata": {
    "execution": {
     "iopub.execute_input": "2022-05-06T11:19:09.852339Z",
     "iopub.status.busy": "2022-05-06T11:19:09.851706Z",
     "iopub.status.idle": "2022-05-06T11:19:10.278124Z",
     "shell.execute_reply": "2022-05-06T11:19:10.277347Z",
     "shell.execute_reply.started": "2022-05-06T11:19:09.852282Z"
    },
    "id": "larWjxvT276G",
    "outputId": "d9ae4565-c84f-46cd-d4ce-77153a68d5ad"
   },
   "outputs": [],
   "source": [
    "sns.kdeplot(train_df['carat'], shade=True , color='r')"
   ]
  },
  {
   "cell_type": "code",
   "execution_count": null,
   "metadata": {
    "execution": {
     "iopub.execute_input": "2022-05-06T11:19:14.124147Z",
     "iopub.status.busy": "2022-05-06T11:19:14.123850Z",
     "iopub.status.idle": "2022-05-06T11:19:15.130105Z",
     "shell.execute_reply": "2022-05-06T11:19:15.129447Z",
     "shell.execute_reply.started": "2022-05-06T11:19:14.124114Z"
    },
    "id": "hPU7Rbkw276G",
    "outputId": "99fcc99d-50ee-42b6-ef77-f65d7a199879"
   },
   "outputs": [],
   "source": [
    "sns.jointplot(x='carat' , y='price' , data=train_df , size=5)"
   ]
  },
  {
   "cell_type": "code",
   "execution_count": null,
   "metadata": {
    "execution": {
     "iopub.execute_input": "2022-05-06T11:19:16.502096Z",
     "iopub.status.busy": "2022-05-06T11:19:16.501661Z",
     "iopub.status.idle": "2022-05-06T11:19:16.860619Z",
     "shell.execute_reply": "2022-05-06T11:19:16.859931Z",
     "shell.execute_reply.started": "2022-05-06T11:19:16.502052Z"
    },
    "id": "mG6mXqQR276H",
    "outputId": "9ebc9bf9-30a4-4ff7-de81-4bc7efc7e701"
   },
   "outputs": [],
   "source": [
    "sns.factorplot(x='cut', data=train_df , kind='count',aspect=2.5 )"
   ]
  },
  {
   "cell_type": "code",
   "execution_count": null,
   "metadata": {
    "execution": {
     "iopub.execute_input": "2022-05-06T11:21:33.981703Z",
     "iopub.status.busy": "2022-05-06T11:21:33.981429Z",
     "iopub.status.idle": "2022-05-06T11:21:34.377960Z",
     "shell.execute_reply": "2022-05-06T11:21:34.377358Z",
     "shell.execute_reply.started": "2022-05-06T11:21:33.981677Z"
    },
    "id": "XCYTLVvV276H",
    "outputId": "8e5f8b65-c381-4e8a-da02-112ac5c981a3"
   },
   "outputs": [],
   "source": [
    "sns.factorplot(x='cut', y='price', data=train_df, kind='box' ,aspect=2.5 )"
   ]
  },
  {
   "cell_type": "markdown",
   "metadata": {
    "id": "jnEtHQk8276I"
   },
   "source": [
    "we can see ordinal featur cut by price"
   ]
  },
  {
   "cell_type": "markdown",
   "metadata": {
    "id": "YJ2t-QAdKIY4"
   },
   "source": [
    "# color"
   ]
  },
  {
   "cell_type": "code",
   "execution_count": null,
   "metadata": {
    "execution": {
     "iopub.execute_input": "2022-05-06T11:22:52.262831Z",
     "iopub.status.busy": "2022-05-06T11:22:52.262541Z",
     "iopub.status.idle": "2022-05-06T11:22:52.607964Z",
     "shell.execute_reply": "2022-05-06T11:22:52.607004Z",
     "shell.execute_reply.started": "2022-05-06T11:22:52.262790Z"
    },
    "id": "6pe-8hbj276I",
    "outputId": "8accfdae-dce2-47ec-9d0a-e64be9565398"
   },
   "outputs": [],
   "source": [
    "sns.factorplot(x='color', data=train_df , kind='count',aspect=2.5 )"
   ]
  },
  {
   "cell_type": "code",
   "execution_count": null,
   "metadata": {
    "execution": {
     "iopub.execute_input": "2022-05-06T11:22:55.080554Z",
     "iopub.status.busy": "2022-05-06T11:22:55.079940Z",
     "iopub.status.idle": "2022-05-06T11:22:55.602576Z",
     "shell.execute_reply": "2022-05-06T11:22:55.601760Z",
     "shell.execute_reply.started": "2022-05-06T11:22:55.080503Z"
    },
    "id": "5xDcS2Fu276J",
    "outputId": "abc6e0ca-b0cc-4894-d288-0131187cf0fd"
   },
   "outputs": [],
   "source": [
    "sns.factorplot(x='color', y='price' , data=train_df , kind='violin', aspect=2.5)"
   ]
  },
  {
   "cell_type": "markdown",
   "metadata": {
    "id": "j56b8e4WKO4H"
   },
   "source": [
    "# clarity"
   ]
  },
  {
   "cell_type": "code",
   "execution_count": null,
   "metadata": {
    "execution": {
     "iopub.execute_input": "2022-05-06T11:24:32.519875Z",
     "iopub.status.busy": "2022-05-06T11:24:32.519528Z",
     "iopub.status.idle": "2022-05-06T11:24:32.711530Z",
     "shell.execute_reply": "2022-05-06T11:24:32.710458Z",
     "shell.execute_reply.started": "2022-05-06T11:24:32.519841Z"
    },
    "id": "Fm4QUL0j276J",
    "outputId": "190f0119-fd21-48f0-aa9f-a55cf3e0ad85"
   },
   "outputs": [],
   "source": [
    "labels = train_df.clarity.unique().tolist()\n",
    "sizes = train_df.clarity.value_counts().tolist()\n",
    "colors = ['#006400', '#E40E00', '#A00994', '#613205', '#FFED0D', '#16F5A7','#ff9999','#66b3ff']\n",
    "explode = (0.1, 0.0, 0.1, 0, 0.1, 0, 0.1,0)\n",
    "plt.pie(sizes, explode=explode, labels=labels, colors=colors,autopct='%1.1f%%', shadow=True, startangle=0)\n",
    "plt.axis('equal')\n",
    "plt.title(\"Percentage of Clarity Categories\")\n",
    "plt.plot()\n",
    "fig=plt.gcf()\n",
    "fig.set_size_inches(6,6)\n",
    "plt.show()"
   ]
  },
  {
   "cell_type": "code",
   "execution_count": null,
   "metadata": {
    "execution": {
     "iopub.execute_input": "2022-05-06T11:24:34.202382Z",
     "iopub.status.busy": "2022-05-06T11:24:34.202074Z",
     "iopub.status.idle": "2022-05-06T11:24:34.510621Z",
     "shell.execute_reply": "2022-05-06T11:24:34.509984Z",
     "shell.execute_reply.started": "2022-05-06T11:24:34.202350Z"
    },
    "id": "_6qI5i6p276K",
    "outputId": "760320c2-2d8d-4880-9e10-df3fbec621bf"
   },
   "outputs": [],
   "source": [
    "sns.boxplot(x='clarity', y='price', data=train_df )"
   ]
  },
  {
   "cell_type": "markdown",
   "metadata": {
    "id": "Vw_eLfxYKaXN"
   },
   "source": [
    "# depth"
   ]
  },
  {
   "cell_type": "code",
   "execution_count": null,
   "metadata": {
    "execution": {
     "iopub.execute_input": "2022-05-06T11:25:21.647675Z",
     "iopub.status.busy": "2022-05-06T11:25:21.646890Z",
     "iopub.status.idle": "2022-05-06T11:25:22.207527Z",
     "shell.execute_reply": "2022-05-06T11:25:22.206634Z",
     "shell.execute_reply.started": "2022-05-06T11:25:21.647632Z"
    },
    "id": "CAS5sQJ0276K",
    "outputId": "94535958-fe59-464a-f7d2-34260b21883d"
   },
   "outputs": [],
   "source": [
    "plt.hist('depth' , data=train_df , bins=25)"
   ]
  },
  {
   "cell_type": "code",
   "execution_count": null,
   "metadata": {
    "execution": {
     "iopub.execute_input": "2022-05-06T11:25:22.209447Z",
     "iopub.status.busy": "2022-05-06T11:25:22.209191Z",
     "iopub.status.idle": "2022-05-06T11:25:27.333205Z",
     "shell.execute_reply": "2022-05-06T11:25:27.332219Z",
     "shell.execute_reply.started": "2022-05-06T11:25:22.209418Z"
    },
    "id": "ZlYxjijk276L",
    "outputId": "dfd5ab10-23c6-41e2-f616-144dea1ed4d6"
   },
   "outputs": [],
   "source": [
    "sns.jointplot(x='depth', y='price' , data=train_df , kind='reg', size=5)"
   ]
  },
  {
   "cell_type": "markdown",
   "metadata": {
    "id": "2hvC28-qKdmW"
   },
   "source": [
    "# table"
   ]
  },
  {
   "cell_type": "code",
   "execution_count": null,
   "metadata": {
    "execution": {
     "iopub.execute_input": "2022-05-06T11:27:45.807232Z",
     "iopub.status.busy": "2022-05-06T11:27:45.806946Z",
     "iopub.status.idle": "2022-05-06T11:27:46.176158Z",
     "shell.execute_reply": "2022-05-06T11:27:46.175179Z",
     "shell.execute_reply.started": "2022-05-06T11:27:45.807203Z"
    },
    "id": "qFGGjIuX276L",
    "outputId": "8b9d9efd-1ae0-42f7-ba61-55766123591c"
   },
   "outputs": [],
   "source": [
    "sns.kdeplot(train_df['table'] ,shade=True , color='orange')"
   ]
  },
  {
   "cell_type": "code",
   "execution_count": null,
   "metadata": {
    "execution": {
     "iopub.execute_input": "2022-05-06T11:27:46.194046Z",
     "iopub.status.busy": "2022-05-06T11:27:46.193634Z",
     "iopub.status.idle": "2022-05-06T11:27:47.438216Z",
     "shell.execute_reply": "2022-05-06T11:27:47.437343Z",
     "shell.execute_reply.started": "2022-05-06T11:27:46.194016Z"
    },
    "id": "k_6u6oIa276M",
    "outputId": "558cad4d-82f0-4fc4-aa92-4c26c368366d"
   },
   "outputs": [],
   "source": [
    "sns.jointplot(x='table', y='price', data=train_df , size=5)"
   ]
  },
  {
   "cell_type": "code",
   "execution_count": null,
   "metadata": {
    "execution": {
     "iopub.execute_input": "2022-05-06T11:27:47.439842Z",
     "iopub.status.busy": "2022-05-06T11:27:47.439627Z",
     "iopub.status.idle": "2022-05-06T11:27:48.275656Z",
     "shell.execute_reply": "2022-05-06T11:27:48.274762Z",
     "shell.execute_reply.started": "2022-05-06T11:27:47.439816Z"
    },
    "id": "PnFyi_M1276M",
    "outputId": "1fffd4e3-1c46-4b92-83a4-641294e7c803"
   },
   "outputs": [],
   "source": [
    "sns.kdeplot(train_df['x'] ,shade=True , color='r' )\n",
    "sns.kdeplot(train_df['y'] , shade=True , color='g' )\n",
    "sns.kdeplot(train_df['z'] , shade= True , color='b')\n",
    "plt.xlim(2,10)"
   ]
  },
  {
   "cell_type": "code",
   "execution_count": null,
   "metadata": {
    "id": "07JIpm7A276M",
    "outputId": "27cfdf82-eaac-481b-8a1e-9d877b19709d"
   },
   "outputs": [],
   "source": [
    "train_df['Id'][train_df['table'] > 70].count()"
   ]
  },
  {
   "cell_type": "code",
   "execution_count": null,
   "metadata": {
    "id": "k4EoTgeD276N",
    "outputId": "dea5ab2f-9d33-439a-eb93-ed7c58721285"
   },
   "outputs": [],
   "source": [
    "train_df['Id'][train_df['x'] < 3].count()"
   ]
  },
  {
   "cell_type": "code",
   "execution_count": null,
   "metadata": {
    "id": "Fb8mU2HU276N",
    "outputId": "05b4a3fa-9bdd-49c9-9acd-7813ce57d620"
   },
   "outputs": [],
   "source": [
    "train_df['Id'][train_df['y'] > 20].count()"
   ]
  },
  {
   "cell_type": "markdown",
   "metadata": {
    "id": "LRqHtYaQ276P"
   },
   "source": [
    "# Correlation Between Features"
   ]
  },
  {
   "cell_type": "code",
   "execution_count": null,
   "metadata": {
    "id": "tHe02MdI276P",
    "outputId": "bcfd80d5-4b77-4a72-bbad-3b7b26f41e74"
   },
   "outputs": [],
   "source": [
    "train_df.corr()"
   ]
  },
  {
   "cell_type": "code",
   "execution_count": null,
   "metadata": {
    "id": "qlaYC1FC276Q",
    "outputId": "67a50bf2-b0b1-44b4-eba2-67289d3b169b"
   },
   "outputs": [],
   "source": [
    "plt.figure(figsize = (10,5))\n",
    "sns.heatmap(train_df.corr(),annot = True , cmap = 'coolwarm' );"
   ]
  },
  {
   "cell_type": "code",
   "execution_count": null,
   "metadata": {
    "id": "V4WAZ1fD276Q",
    "outputId": "5c014f84-b265-4855-f8c1-62a45ea358ba"
   },
   "outputs": [],
   "source": [
    "corr_matrix = train_df.corr()\n",
    "corr_matrix[\"price\"].abs().sort_values(ascending=False)"
   ]
  },
  {
   "cell_type": "code",
   "execution_count": null,
   "metadata": {
    "id": "dpbXHqD5276Q",
    "outputId": "d23d9539-03a0-4a9c-fa2f-fffa7d9b6db8"
   },
   "outputs": [],
   "source": [
    "input_cat_columns = train_df.select_dtypes(include = ['object']).columns.tolist()\n",
    "\n",
    "for col in input_cat_columns:\n",
    "    sns.catplot(x=col, y=\"price\",\n",
    "            kind=\"box\", dodge=False, height = 5, aspect = 3,data=train_df);"
   ]
  },
  {
   "cell_type": "code",
   "execution_count": null,
   "metadata": {
    "id": "dngLIFI4276R",
    "outputId": "847aaf0e-5de1-44ce-b8d7-589157308373"
   },
   "outputs": [],
   "source": [
    "train_df.query(\"z>10 or y>10\").index"
   ]
  },
  {
   "cell_type": "code",
   "execution_count": null,
   "metadata": {
    "id": "ivcyPMDu276R",
    "outputId": "dcbcc450-f2d6-43a3-a9d3-8352d749d8c8"
   },
   "outputs": [],
   "source": [
    "train_df.query(\"x==0 or y==0 or z==0\").index"
   ]
  },
  {
   "cell_type": "markdown",
   "metadata": {
    "id": "nOYw-tIt276S"
   },
   "source": [
    "# **Data preprocessing**\n",
    "Feature Engineering Create New Feature 'Vol'\n",
    "\n",
    "Feature Encoding ordinal encoder convert the categorical data to numerical "
   ]
  },
  {
   "cell_type": "code",
   "execution_count": null,
   "metadata": {
    "execution": {
     "iopub.execute_input": "2022-05-06T11:29:43.042941Z",
     "iopub.status.busy": "2022-05-06T11:29:43.041913Z",
     "iopub.status.idle": "2022-05-06T11:29:43.049681Z",
     "shell.execute_reply": "2022-05-06T11:29:43.048712Z",
     "shell.execute_reply.started": "2022-05-06T11:29:43.042884Z"
    },
    "id": "vcS0YZ96276S"
   },
   "outputs": [],
   "source": [
    "Encoder_cut_object = OrdinalEncoder(categories=[[ 'Fair', 'Good', 'Very Good', 'Premium', 'Ideal']])\n",
    "Encoder_clarity_object = OrdinalEncoder(categories=[['I1', 'SI2', 'SI1', 'VS2', 'VS1', 'VVS2', 'VVS1', 'IF' ]])\n",
    "Encoder_color_object = OrdinalEncoder(categories=[[ 'J', 'I', 'H','G', 'F', 'E', 'D' ]])"
   ]
  },
  {
   "cell_type": "code",
   "execution_count": null,
   "metadata": {
    "execution": {
     "iopub.execute_input": "2022-05-06T11:35:03.700940Z",
     "iopub.status.busy": "2022-05-06T11:35:03.700625Z",
     "iopub.status.idle": "2022-05-06T11:35:03.763072Z",
     "shell.execute_reply": "2022-05-06T11:35:03.762423Z",
     "shell.execute_reply.started": "2022-05-06T11:35:03.700908Z"
    },
    "id": "Q1GuuQAe276T",
    "outputId": "bfdf73f2-191b-45bf-bb8c-ba5a42d2cb4d"
   },
   "outputs": [],
   "source": [
    "\n",
    "train_df['color'] =Encoder_color_object.fit_transform(np.array(train_df['color']).reshape(-1,1))+1\n",
    "train_df['clarity'] =Encoder_clarity_object.fit_transform(np.array(train_df['clarity']).reshape(-1,1))+1\n",
    "train_df['cut'] =Encoder_cut_object.fit_transform(np.array(train_df['cut']).reshape(-1,1))+1\n",
    "\n",
    "# train_df['x']=train_df.x.mask(train_df.x == 0,train_df['x'].min(skipna=True))\n",
    "# train_df['y']=train_df.x.mask(train_df.y == 0,train_df['y'].min(skipna=True))\n",
    "# train_df['z']=train_df.x.mask(train_df.z == 0,train_df['z'].min(skipna=True))\n",
    "\n",
    "# train_df[\"vol_median\"] = train_df.x.mask(train_df.x == 0,train_df['x'].median(skipna=True)) * train_df.x.mask(train_df.y == 0,train_df['y'].median(skipna=True)) * train_df.x.mask(train_df.z == 0,train_df['z'].median(skipna=True))\n",
    "# train_df[\"vol_mean\"] = train_df.x.mask(train_df.x == 0,train_df['x'].mean(skipna=True)) * train_df.x.mask(train_df.y == 0,train_df['y'].mean(skipna=True)) * train_df.x.mask(train_df.z == 0,train_df['z'].mean(skipna=True))\n",
    "train_df[\"vol\"] = train_df.x * train_df.y * train_df.z\n",
    "\n",
    "# train_df['cut/wt']=train_df['cut']/train_df['carat']\n",
    "# train_df['color/wt']=train_df['color']/train_df['carat']\n",
    "# train_df['clarity/wt']=train_df['clarity']/train_df['carat']\n",
    "# train_df = train_df.drop(['cut','color','clarity'], axis=1)\n",
    "\n",
    "train_df.drop([\"x\",\"y\",\"z\"], axis=1, inplace=True)\n"
   ]
  },
  {
   "cell_type": "code",
   "execution_count": null,
   "metadata": {
    "execution": {
     "iopub.execute_input": "2022-05-06T11:35:04.086943Z",
     "iopub.status.busy": "2022-05-06T11:35:04.086153Z",
     "iopub.status.idle": "2022-05-06T11:35:04.101573Z",
     "shell.execute_reply": "2022-05-06T11:35:04.100670Z",
     "shell.execute_reply.started": "2022-05-06T11:35:04.086907Z"
    },
    "id": "IEHYTkwY276T"
   },
   "outputs": [],
   "source": [
    "test_df['color'] =Encoder_color_object.transform(np.array(test_df['color']).reshape(-1,1))+1\n",
    "test_df['clarity'] =Encoder_clarity_object.transform(np.array(test_df['clarity']).reshape(-1,1))+1\n",
    "test_df['cut'] =Encoder_cut_object.transform(np.array(test_df['cut']).reshape(-1,1))+1\n",
    "\n",
    "test_df['x']=test_df.x.mask(test_df.x == 0,test_df['x'].min(skipna=True))\n",
    "test_df['y']=test_df.x.mask(test_df.y == 0,test_df['y'].min(skipna=True))\n",
    "test_df['z']=test_df.x.mask(test_df.z == 0,test_df['z'].min(skipna=True))\n",
    "\n",
    "test_df[\"vol\"] = test_df.x * test_df.y * test_df.z\n",
    "test_df.drop([\"x\",\"y\",\"z\"], axis=1, inplace=True)\n",
    "\n",
    "# test_df['cut/wt']=test_df['cut']/test_df['carat']\n",
    "# test_df['color/wt']=test_df['color']/test_df['carat']\n",
    "# test_df['clarity/wt']=test_df['clarity']/test_df['carat']\n",
    "# test_df = test_df.drop(['cut','color','clarity'], axis=1)"
   ]
  },
  {
   "cell_type": "code",
   "execution_count": null,
   "metadata": {
    "execution": {
     "iopub.execute_input": "2022-05-06T11:35:05.461903Z",
     "iopub.status.busy": "2022-05-06T11:35:05.461619Z",
     "iopub.status.idle": "2022-05-06T11:35:05.488074Z",
     "shell.execute_reply": "2022-05-06T11:35:05.486886Z",
     "shell.execute_reply.started": "2022-05-06T11:35:05.461870Z"
    },
    "id": "ctNPdZ44276U",
    "outputId": "5a923105-0828-4f6a-84e3-c7d9275d5b13"
   },
   "outputs": [],
   "source": [
    "train_df.drop(\"Id\",axis=1,inplace=True)\n",
    "train_df"
   ]
  },
  {
   "cell_type": "markdown",
   "metadata": {
    "id": "xagrKej5276U"
   },
   "source": [
    "Feature Scaling"
   ]
  },
  {
   "cell_type": "code",
   "execution_count": null,
   "metadata": {
    "execution": {
     "iopub.execute_input": "2022-05-06T11:35:06.824230Z",
     "iopub.status.busy": "2022-05-06T11:35:06.823958Z",
     "iopub.status.idle": "2022-05-06T11:35:06.844194Z",
     "shell.execute_reply": "2022-05-06T11:35:06.843561Z",
     "shell.execute_reply.started": "2022-05-06T11:35:06.824202Z"
    },
    "id": "YTB-TmGm276V"
   },
   "outputs": [],
   "source": [
    "x = train_df.drop(\"price\",axis=1)\n",
    "y = train_df['price']\n",
    "\n",
    "scaler = MinMaxScaler()\n",
    "x = scaler.fit_transform(x)\n",
    "X_train, X_test, y_train, y_test = train_test_split(x,y, test_size=0.2, random_state=42)"
   ]
  },
  {
   "cell_type": "code",
   "execution_count": null,
   "metadata": {
    "execution": {
     "iopub.execute_input": "2022-05-06T11:35:33.378233Z",
     "iopub.status.busy": "2022-05-06T11:35:33.377435Z",
     "iopub.status.idle": "2022-05-06T11:35:33.382467Z",
     "shell.execute_reply": "2022-05-06T11:35:33.381549Z",
     "shell.execute_reply.started": "2022-05-06T11:35:33.378195Z"
    },
    "id": "M3btoUjZ276V"
   },
   "outputs": [],
   "source": [
    "def meansquarederror(y_pred, y_test):\n",
    "    lin_mse = mean_squared_error(y_pred, y_test)\n",
    "    lin_rmse = np.sqrt(lin_mse)\n",
    "    return lin_rmse"
   ]
  },
  {
   "cell_type": "markdown",
   "metadata": {
    "id": "zv5UuooB276W"
   },
   "source": [
    "# Modelling Algos"
   ]
  },
  {
   "cell_type": "code",
   "execution_count": null,
   "metadata": {
    "execution": {
     "iopub.execute_input": "2022-05-06T11:35:34.649726Z",
     "iopub.status.busy": "2022-05-06T11:35:34.648551Z",
     "iopub.status.idle": "2022-05-06T11:35:34.654327Z",
     "shell.execute_reply": "2022-05-06T11:35:34.653308Z",
     "shell.execute_reply.started": "2022-05-06T11:35:34.649684Z"
    },
    "id": "TqAOwFXH276W"
   },
   "outputs": [],
   "source": [
    "rmse_ = []\n",
    "models = ['Linear Regression' ,'Ridge Regression', 'Lasso Regression' ,' Tweedie regression', 'PLSRegression','Decision Trees',\n",
    "          'RandomForest Regression' ,'KNeighbours Regression', 'SVR rbf','SVR linear', 'SVR poly', 'MLPRegressor',\n",
    "          'AdaBoost Regression' , 'GradientBoosting Regression','XGBRegressor'\n",
    "         ]"
   ]
  },
  {
   "cell_type": "markdown",
   "metadata": {
    "id": "Pq-R85lX276X"
   },
   "source": [
    "# Linear Regression"
   ]
  },
  {
   "cell_type": "code",
   "execution_count": null,
   "metadata": {
    "execution": {
     "iopub.execute_input": "2022-05-06T11:35:36.016265Z",
     "iopub.status.busy": "2022-05-06T11:35:36.015481Z",
     "iopub.status.idle": "2022-05-06T11:35:36.057385Z",
     "shell.execute_reply": "2022-05-06T11:35:36.056350Z",
     "shell.execute_reply.started": "2022-05-06T11:35:36.016206Z"
    },
    "id": "hfiDMsUR276X",
    "outputId": "e6b7a21a-dab5-4a58-817c-1955f30e0ea8"
   },
   "outputs": [],
   "source": [
    "reg_all = LinearRegression()\n",
    "# Fit the model to X_train and y_train\n",
    "reg_all.fit(X_train,y_train) \n",
    "# Make predictions\n",
    "y_pred=reg_all.predict(X_test)\n",
    "rmse_.append(meansquarederror(y_pred, y_test))\n",
    "meansquarederror(y_pred, y_test)"
   ]
  },
  {
   "cell_type": "markdown",
   "metadata": {
    "id": "NveHAl5r276X"
   },
   "source": [
    "# Ridge regression\n"
   ]
  },
  {
   "cell_type": "code",
   "execution_count": null,
   "metadata": {
    "execution": {
     "iopub.execute_input": "2022-05-06T11:35:36.332507Z",
     "iopub.status.busy": "2022-05-06T11:35:36.332224Z",
     "iopub.status.idle": "2022-05-06T11:35:36.355273Z",
     "shell.execute_reply": "2022-05-06T11:35:36.354285Z",
     "shell.execute_reply.started": "2022-05-06T11:35:36.332479Z"
    },
    "id": "Kn9VsjiE276Y",
    "outputId": "bef3863d-da7c-40fe-f045-dfefe6409333"
   },
   "outputs": [],
   "source": [
    "reg = Ridge()\n",
    "reg.fit(X_train,y_train) \n",
    "y_pred=reg.predict(X_test)\n",
    "rmse_.append(meansquarederror(y_pred, y_test))\n",
    "meansquarederror(y_pred, y_test)"
   ]
  },
  {
   "cell_type": "markdown",
   "metadata": {
    "id": "PKfWw9fg276Y"
   },
   "source": [
    "# Lasso Regression"
   ]
  },
  {
   "cell_type": "code",
   "execution_count": null,
   "metadata": {
    "execution": {
     "iopub.execute_input": "2022-05-06T11:35:36.839320Z",
     "iopub.status.busy": "2022-05-06T11:35:36.838482Z",
     "iopub.status.idle": "2022-05-06T11:35:36.871609Z",
     "shell.execute_reply": "2022-05-06T11:35:36.870762Z",
     "shell.execute_reply.started": "2022-05-06T11:35:36.839253Z"
    },
    "id": "hj45qa1I276Y",
    "outputId": "de3770e0-d4f3-4555-8ba7-69f25b6330d8"
   },
   "outputs": [],
   "source": [
    "clf_la = Lasso(normalize=True)\n",
    "clf_la.fit(X_train , y_train)\n",
    "y_pred=reg.predict(X_test)\n",
    "rmse_.append(meansquarederror(y_pred, y_test))\n",
    "meansquarederror(y_pred, y_test)"
   ]
  },
  {
   "cell_type": "markdown",
   "metadata": {
    "id": "2HIZro2s276Z"
   },
   "source": [
    "# Tweedie regression"
   ]
  },
  {
   "cell_type": "code",
   "execution_count": null,
   "metadata": {
    "execution": {
     "iopub.execute_input": "2022-05-06T11:35:36.982045Z",
     "iopub.status.busy": "2022-05-06T11:35:36.981762Z",
     "iopub.status.idle": "2022-05-06T11:35:37.650213Z",
     "shell.execute_reply": "2022-05-06T11:35:37.649301Z",
     "shell.execute_reply.started": "2022-05-06T11:35:36.982013Z"
    },
    "id": "gNihi7VT276Z",
    "outputId": "bd829398-44d6-4d6a-bb0f-24ebc1f4734c"
   },
   "outputs": [],
   "source": [
    "reg = TweedieRegressor(power=1, alpha=0.5, link='log')\n",
    "reg.fit(X_train,y_train) \n",
    "y_pred=reg.predict(X_test)\n",
    "rmse_.append(meansquarederror(y_pred, y_test))\n",
    "meansquarederror(y_pred, y_test)"
   ]
  },
  {
   "cell_type": "markdown",
   "metadata": {
    "id": "v57FxXya276a"
   },
   "source": [
    "# PLSRegression\n"
   ]
  },
  {
   "cell_type": "code",
   "execution_count": null,
   "metadata": {
    "execution": {
     "iopub.execute_input": "2022-05-06T11:35:37.653079Z",
     "iopub.status.busy": "2022-05-06T11:35:37.652407Z",
     "iopub.status.idle": "2022-05-06T11:35:37.689714Z",
     "shell.execute_reply": "2022-05-06T11:35:37.688764Z",
     "shell.execute_reply.started": "2022-05-06T11:35:37.653026Z"
    },
    "id": "QwMouiT3276a",
    "outputId": "9eb6d01d-95ad-405f-9f9f-4adb0a9cc68f"
   },
   "outputs": [],
   "source": [
    "pls2 = PLSRegression(n_components=2)\n",
    "pls2.fit(X_train,y_train) \n",
    "y_pred=pls2.predict(X_test)\n",
    "rmse_.append(meansquarederror(y_pred, y_test))\n",
    "meansquarederror(y_pred, y_test)"
   ]
  },
  {
   "cell_type": "markdown",
   "metadata": {
    "id": "KSfldoiC276a"
   },
   "source": [
    "# Decision Trees"
   ]
  },
  {
   "cell_type": "code",
   "execution_count": null,
   "metadata": {
    "execution": {
     "iopub.execute_input": "2022-05-06T11:35:37.698415Z",
     "iopub.status.busy": "2022-05-06T11:35:37.695707Z",
     "iopub.status.idle": "2022-05-06T11:35:37.960557Z",
     "shell.execute_reply": "2022-05-06T11:35:37.959716Z",
     "shell.execute_reply.started": "2022-05-06T11:35:37.698349Z"
    },
    "id": "YDholA1_276b",
    "outputId": "e36ecdf8-b216-418f-d523-2bf649cbf0f5"
   },
   "outputs": [],
   "source": [
    "reg_all = DecisionTreeRegressor()\n",
    "reg_all.fit(X_train,y_train) \n",
    "y_pred=reg_all.predict(X_test)\n",
    "rmse_.append(meansquarederror(y_pred, y_test))\n",
    "meansquarederror(y_pred, y_test)"
   ]
  },
  {
   "cell_type": "markdown",
   "metadata": {
    "id": "7fbiXlj7276b"
   },
   "source": [
    "#  RandomForest Regression"
   ]
  },
  {
   "cell_type": "code",
   "execution_count": null,
   "metadata": {
    "execution": {
     "iopub.execute_input": "2022-05-06T11:35:37.993927Z",
     "iopub.status.busy": "2022-05-06T11:35:37.993661Z",
     "iopub.status.idle": "2022-05-06T11:35:51.509816Z",
     "shell.execute_reply": "2022-05-06T11:35:51.508770Z",
     "shell.execute_reply.started": "2022-05-06T11:35:37.993899Z"
    },
    "id": "XLu_JH9N276b",
    "outputId": "925a7143-02b1-4f8b-fa0a-574518b38c69"
   },
   "outputs": [],
   "source": [
    "reg_all = RandomForestRegressor()\n",
    "reg_all.fit(X_train,y_train) \n",
    "y_pred=reg_all.predict(X_test)\n",
    "rmse_.append(meansquarederror(y_pred, y_test))\n",
    "meansquarederror(y_pred, y_test) # 537.0683963163358"
   ]
  },
  {
   "cell_type": "markdown",
   "metadata": {
    "id": "h8jCh884276c"
   },
   "source": [
    "# KNeighborsRegressor"
   ]
  },
  {
   "cell_type": "code",
   "execution_count": null,
   "metadata": {
    "execution": {
     "iopub.execute_input": "2022-05-06T11:35:51.511746Z",
     "iopub.status.busy": "2022-05-06T11:35:51.511529Z",
     "iopub.status.idle": "2022-05-06T11:35:51.802323Z",
     "shell.execute_reply": "2022-05-06T11:35:51.801470Z",
     "shell.execute_reply.started": "2022-05-06T11:35:51.511719Z"
    },
    "id": "Xir6JBWZ276c",
    "outputId": "7bc6ea09-85e4-4b9e-b80b-ae888aab5ee6"
   },
   "outputs": [],
   "source": [
    "reg_all = KNeighborsRegressor(n_neighbors = 8, metric = \"minkowski\", p = 2)\n",
    "reg_all.fit(X_train,y_train)\n",
    "y_pred=reg_all.predict(X_test)\n",
    "rmse_.append(meansquarederror(y_pred, y_test))\n",
    "meansquarederror(y_pred, y_test)"
   ]
  },
  {
   "cell_type": "markdown",
   "metadata": {
    "id": "q4oNy9ci276d"
   },
   "source": [
    "# Support Vector Machines"
   ]
  },
  {
   "cell_type": "code",
   "execution_count": null,
   "metadata": {
    "execution": {
     "iopub.execute_input": "2022-05-06T11:35:51.803829Z",
     "iopub.status.busy": "2022-05-06T11:35:51.803537Z",
     "iopub.status.idle": "2022-05-06T11:37:37.960402Z",
     "shell.execute_reply": "2022-05-06T11:37:37.959761Z",
     "shell.execute_reply.started": "2022-05-06T11:35:51.803801Z"
    },
    "id": "M8FF5Zw3276d",
    "outputId": "dd0c76c1-0281-49fa-d274-8111930401b4"
   },
   "outputs": [],
   "source": [
    "regressor = SVR(kernel=\"rbf\")\n",
    "regressor.fit(X_train,y_train)\n",
    "y_pred = regressor.predict(X_test)\n",
    "rmse_.append(meansquarederror(y_pred, y_test))\n",
    "meansquarederror(y_pred, y_test)"
   ]
  },
  {
   "cell_type": "code",
   "execution_count": null,
   "metadata": {
    "execution": {
     "iopub.execute_input": "2022-05-06T11:37:37.963059Z",
     "iopub.status.busy": "2022-05-06T11:37:37.962077Z",
     "iopub.status.idle": "2022-05-06T11:38:54.295655Z",
     "shell.execute_reply": "2022-05-06T11:38:54.294808Z",
     "shell.execute_reply.started": "2022-05-06T11:37:37.963017Z"
    },
    "id": "AWRmKHJP276e",
    "outputId": "5bca475a-d023-49bc-c7c6-7c2de98b5456"
   },
   "outputs": [],
   "source": [
    "regressor = SVR(kernel=\"linear\")\n",
    "regressor.fit(X_train,y_train)\n",
    "y_pred = regressor.predict(X_test)\n",
    "rmse_.append(meansquarederror(y_pred, y_test))\n",
    "meansquarederror(y_pred, y_test) #3664"
   ]
  },
  {
   "cell_type": "code",
   "execution_count": null,
   "metadata": {
    "execution": {
     "iopub.execute_input": "2022-05-06T11:38:54.297472Z",
     "iopub.status.busy": "2022-05-06T11:38:54.297017Z",
     "iopub.status.idle": "2022-05-06T11:40:29.547915Z",
     "shell.execute_reply": "2022-05-06T11:40:29.547136Z",
     "shell.execute_reply.started": "2022-05-06T11:38:54.297426Z"
    },
    "id": "ne792zzs276e",
    "outputId": "8c41eae4-b20f-4858-d15d-9172001343cb"
   },
   "outputs": [],
   "source": [
    "regressor = SVR(kernel=\"poly\")\n",
    "regressor.fit(X_train,y_train)\n",
    "y_pred = regressor.predict(X_test)\n",
    "rmse_.append(meansquarederror(y_pred, y_test))\n",
    "meansquarederror(y_pred, y_test)# 1259"
   ]
  },
  {
   "cell_type": "markdown",
   "metadata": {
    "id": "8Af4wCUM276e"
   },
   "source": [
    "# MLPRegressor"
   ]
  },
  {
   "cell_type": "code",
   "execution_count": null,
   "metadata": {
    "execution": {
     "iopub.execute_input": "2022-05-06T11:40:29.549257Z",
     "iopub.status.busy": "2022-05-06T11:40:29.549045Z",
     "iopub.status.idle": "2022-05-06T11:43:35.784203Z",
     "shell.execute_reply": "2022-05-06T11:43:35.783270Z",
     "shell.execute_reply.started": "2022-05-06T11:40:29.549230Z"
    },
    "id": "qDcJE8PD276f",
    "outputId": "c0a52425-00d3-445a-f143-8653b306679a"
   },
   "outputs": [],
   "source": [
    "regr = MLPRegressor(random_state=1, max_iter=500)\n",
    "regr.fit(X_train,y_train)\n",
    "y_pred = regr.predict(X_test)\n",
    "rmse_.append(meansquarederror(y_pred, y_test))\n",
    "meansquarederror(y_pred, y_test)"
   ]
  },
  {
   "cell_type": "markdown",
   "metadata": {
    "id": "qAuoh7IE276f"
   },
   "source": [
    "# AdaBoostRegressor"
   ]
  },
  {
   "cell_type": "code",
   "execution_count": null,
   "metadata": {
    "execution": {
     "iopub.execute_input": "2022-05-06T11:43:35.786811Z",
     "iopub.status.busy": "2022-05-06T11:43:35.786143Z",
     "iopub.status.idle": "2022-05-06T11:43:38.021654Z",
     "shell.execute_reply": "2022-05-06T11:43:38.020766Z",
     "shell.execute_reply.started": "2022-05-06T11:43:35.786761Z"
    },
    "id": "MGrizGRr276f",
    "outputId": "95250e13-e5c4-447a-a5e2-40af99be9c16"
   },
   "outputs": [],
   "source": [
    "clf_ar = AdaBoostRegressor(n_estimators=1000)\n",
    "clf_ar.fit(X_train , y_train)\n",
    "y_pred=clf_ar.predict(X_test)\n",
    "rmse_.append(meansquarederror(y_pred, y_test))\n",
    "meansquarederror(y_pred, y_test)#557"
   ]
  },
  {
   "cell_type": "markdown",
   "metadata": {
    "id": "GKvBFn73276g"
   },
   "source": [
    "#  GradientBoostingRegressor\n"
   ]
  },
  {
   "cell_type": "code",
   "execution_count": null,
   "metadata": {
    "execution": {
     "iopub.execute_input": "2022-05-06T11:43:38.023047Z",
     "iopub.status.busy": "2022-05-06T11:43:38.022820Z",
     "iopub.status.idle": "2022-05-06T11:43:39.423673Z",
     "shell.execute_reply": "2022-05-06T11:43:39.422961Z",
     "shell.execute_reply.started": "2022-05-06T11:43:38.023018Z"
    },
    "id": "mE_d1Y8Z276g",
    "outputId": "eb92bc93-ab2d-4120-f698-f7d6462bac2c"
   },
   "outputs": [],
   "source": [
    "clf_gbr = GradientBoostingRegressor(n_estimators=100, learning_rate=0.1,max_depth=1, random_state=0, loss='ls',verbose = 1)\n",
    "clf_gbr.fit(X_train , y_train)\n",
    "y_pred = clf_gbr.predict(X_test)\n",
    "rmse_.append(meansquarederror(y_pred, y_test))\n",
    "meansquarederror(y_pred, y_test)"
   ]
  },
  {
   "cell_type": "markdown",
   "metadata": {
    "id": "OlRpE831276h"
   },
   "source": [
    "# XGBRegressor"
   ]
  },
  {
   "cell_type": "code",
   "execution_count": null,
   "metadata": {
    "execution": {
     "iopub.execute_input": "2022-05-06T11:43:39.424955Z",
     "iopub.status.busy": "2022-05-06T11:43:39.424729Z",
     "iopub.status.idle": "2022-05-06T11:43:41.235714Z",
     "shell.execute_reply": "2022-05-06T11:43:41.234816Z",
     "shell.execute_reply.started": "2022-05-06T11:43:39.424929Z"
    },
    "id": "J7mT7Zhq276h",
    "outputId": "b6984311-3fd0-4b0a-c3b6-3d6ed298d28b"
   },
   "outputs": [],
   "source": [
    "RegModel=XGBRegressor()\n",
    "XGB=RegModel.fit(X_train,y_train)\n",
    "y_pred=XGB.predict(X_test)\n",
    "rmse_.append(meansquarederror(y_pred, y_test))\n",
    "meansquarederror(y_pred, y_test) #538"
   ]
  },
  {
   "cell_type": "code",
   "execution_count": null,
   "metadata": {
    "execution": {
     "iopub.execute_input": "2022-05-06T11:43:41.240156Z",
     "iopub.status.busy": "2022-05-06T11:43:41.239738Z",
     "iopub.status.idle": "2022-05-06T11:43:41.254391Z",
     "shell.execute_reply": "2022-05-06T11:43:41.253544Z",
     "shell.execute_reply.started": "2022-05-06T11:43:41.240119Z"
    },
    "id": "etHZTwB-276h",
    "outputId": "d6490b4d-6023-4be9-a52f-c02d00e0362c"
   },
   "outputs": [],
   "source": [
    "compare = pd.DataFrame({'Algorithms' : models , 'RMSE' : rmse_})\n",
    "compare.sort_values(by='RMSE' ,ascending=True)"
   ]
  },
  {
   "cell_type": "code",
   "execution_count": null,
   "metadata": {
    "execution": {
     "iopub.execute_input": "2022-05-06T11:43:41.256019Z",
     "iopub.status.busy": "2022-05-06T11:43:41.255580Z",
     "iopub.status.idle": "2022-05-06T11:43:41.652211Z",
     "shell.execute_reply": "2022-05-06T11:43:41.651376Z",
     "shell.execute_reply.started": "2022-05-06T11:43:41.255988Z"
    },
    "id": "hGdaAnVl276i",
    "outputId": "613bd82f-2a77-4a57-d5c4-de118a84d85f"
   },
   "outputs": [],
   "source": [
    "sns.factorplot(x='Algorithms', y='RMSE' , data=compare, size=6 , aspect=4)"
   ]
  },
  {
   "cell_type": "markdown",
   "metadata": {
    "id": "OD7DDaed276i"
   },
   "source": [
    "# cross_val_score"
   ]
  },
  {
   "cell_type": "code",
   "execution_count": null,
   "metadata": {
    "execution": {
     "iopub.execute_input": "2022-05-06T11:50:17.068183Z",
     "iopub.status.busy": "2022-05-06T11:50:17.067885Z",
     "iopub.status.idle": "2022-05-06T11:50:34.664403Z",
     "shell.execute_reply": "2022-05-06T11:50:34.663492Z",
     "shell.execute_reply.started": "2022-05-06T11:50:17.068152Z"
    },
    "id": "YI0H0Zt6276i"
   },
   "outputs": [],
   "source": [
    "RegModel=XGBRegressor()\n",
    "RegModel_rmse = cross_val_score(RegModel, X_train, y_train,scoring=\"neg_mean_squared_error\", cv=10)\n",
    "RegModel_rmse_scores = np.sqrt(-RegModel_rmse)\n",
    "print(\"scores:\", RegModel_rmse_scores)\n",
    "print(\"Mean:\", RegModel_rmse_scores.mean()) #557"
   ]
  },
  {
   "cell_type": "code",
   "execution_count": null,
   "metadata": {
    "execution": {
     "iopub.execute_input": "2022-05-06T11:50:34.666122Z",
     "iopub.status.busy": "2022-05-06T11:50:34.665861Z",
     "iopub.status.idle": "2022-05-06T11:52:33.154041Z",
     "shell.execute_reply": "2022-05-06T11:52:33.153033Z",
     "shell.execute_reply.started": "2022-05-06T11:50:34.666092Z"
    },
    "id": "p3oDsDda276j"
   },
   "outputs": [],
   "source": [
    "\n",
    "forest_reg = RandomForestRegressor()\n",
    "forest_rmse = cross_val_score(forest_reg, X_train, y_train,scoring=\"neg_mean_squared_error\", cv=10)\n",
    "forest_rmse_scores = np.sqrt(-forest_rmse)\n",
    "print(\"scores:\", forest_rmse_scores)\n",
    "print(\"Mean:\", forest_rmse_scores.mean()) #557"
   ]
  },
  {
   "cell_type": "code",
   "execution_count": null,
   "metadata": {
    "execution": {
     "iopub.execute_input": "2022-05-06T11:52:33.155415Z",
     "iopub.status.busy": "2022-05-06T11:52:33.155206Z",
     "iopub.status.idle": "2022-05-06T11:52:35.069592Z",
     "shell.execute_reply": "2022-05-06T11:52:35.068700Z",
     "shell.execute_reply.started": "2022-05-06T11:52:33.155390Z"
    }
   },
   "outputs": [],
   "source": [
    "\n",
    "forest_reg = DecisionTreeRegressor()\n",
    "forest_rmse = cross_val_score(forest_reg, X_train, y_train,scoring=\"neg_mean_squared_error\", cv=10)\n",
    "forest_rmse_scores = np.sqrt(-forest_rmse)\n",
    "print(\"scores:\", forest_rmse_scores)\n",
    "print(\"Mean:\", forest_rmse_scores.mean()) "
   ]
  },
  {
   "cell_type": "markdown",
   "metadata": {
    "id": "oiECYbbJ276j"
   },
   "source": [
    "# Tuning Parameters\n"
   ]
  },
  {
   "cell_type": "code",
   "execution_count": null,
   "metadata": {
    "id": "SY9dbz6U276k",
    "scrolled": true
   },
   "outputs": [],
   "source": [
    "# parameters = \n",
    "# {\n",
    "#    'nthread':[x for x in range(1,6)], \n",
    "#    'objective':['reg:squarederror'],\n",
    "#    'learning_rate': [.01,.03, 0.05,0.02], \n",
    "#     'max_depth': [x for x in range(4,10)],\n",
    "#     'min_child_weight': [4,3,5,6],\n",
    "#     'subsample': [0.7],\n",
    "#     'colsample_bytree': [0.7],\n",
    "#      'n_estimators': [500,700,200,400,800]\n",
    "# }\n",
    "\n",
    "# RegModel=XGBRegressor()\n",
    "\n",
    "# grid_search = GridSearchCV(RegModel, parameters, cv=5,scoring='neg_mean_squared_error',return_train_score=True)\n",
    "# grid_search.fit(X_train,y_train)\n",
    "# y_pred=grid_search.predict(X_test)\n",
    "# meansquarederror(y_pred, y_test) # 523.555623184738"
   ]
  },
  {
   "cell_type": "code",
   "execution_count": null,
   "metadata": {
    "id": "cEwQB0Mh276l"
   },
   "outputs": [],
   "source": [
    "# parameters = \n",
    "# {\n",
    "#       'bootstrap': [False , True],\n",
    "#       \"criterion\":[\"squared_error\"],\n",
    "#       'n_estimators': [x for x in range(1,600,50)],\n",
    "#       'max_features': [x for x in range(1,NUM_F)],\n",
    "#       \"max_depth\":[x for x in range(1,10)]\n",
    "#   }\n",
    "\n",
    "              \n",
    "# forest_reg = RandomForestRegressor()\n",
    "# grid_search = GridSearchCV(forest_reg, parameters, cv=5,scoring='neg_mean_squared_error',return_train_score=True)\n",
    "# grid_search.fit(X_train,y_train)\n",
    "# y_pred=grid_search.predict(X_test)\n",
    "# meansquarederror(y_pred, y_test)"
   ]
  },
  {
   "cell_type": "code",
   "execution_count": null,
   "metadata": {
    "id": "SeRA00_s276m"
   },
   "outputs": [],
   "source": [
    "# grid_search.best_params_"
   ]
  },
  {
   "cell_type": "code",
   "execution_count": null,
   "metadata": {
    "id": "Ome1iwrZ276n"
   },
   "outputs": [],
   "source": [
    "# final_model = grid_search.best_estimator_"
   ]
  },
  {
   "cell_type": "code",
   "execution_count": null,
   "metadata": {
    "id": "sTMAChiO276o"
   },
   "outputs": [],
   "source": [
    "# y_pred = final_model.predict(X_train)\n",
    "# meansquarederror(y_pred,y_train)"
   ]
  },
  {
   "cell_type": "code",
   "execution_count": null,
   "metadata": {
    "id": "jrLA7rpf276n"
   },
   "outputs": [],
   "source": [
    "# y_pred = final_model.predict(X_test)\n",
    "# meansquarederror(y_pred,y_test)"
   ]
  },
  {
   "cell_type": "code",
   "execution_count": null,
   "metadata": {
    "execution": {
     "iopub.execute_input": "2022-05-06T12:28:14.376743Z",
     "iopub.status.busy": "2022-05-06T12:28:14.376206Z",
     "iopub.status.idle": "2022-05-06T12:28:28.951855Z",
     "shell.execute_reply": "2022-05-06T12:28:28.950803Z",
     "shell.execute_reply.started": "2022-05-06T12:28:14.376711Z"
    },
    "id": "MNZp1DUL276l"
   },
   "outputs": [],
   "source": [
    "RegModel=XGBRegressor(colsample_bytree= 0.7,learning_rate= 0.03,max_depth= 7,min_child_weight= 5,n_estimators= 500,nthread= 1,objective= 'reg:squarederror',subsample= 0.7)\n",
    "RegModel.fit(X_train,y_train)\n",
    "y_pred=RegModel.predict(X_test)\n",
    "meansquarederror(y_pred, y_test)#510"
   ]
  },
  {
   "cell_type": "code",
   "execution_count": null,
   "metadata": {
    "execution": {
     "iopub.execute_input": "2022-05-06T12:29:00.621073Z",
     "iopub.status.busy": "2022-05-06T12:29:00.620785Z",
     "iopub.status.idle": "2022-05-06T12:29:01.377540Z",
     "shell.execute_reply": "2022-05-06T12:29:01.376605Z",
     "shell.execute_reply.started": "2022-05-06T12:29:00.621044Z"
    },
    "id": "Ulj-92lY276s"
   },
   "outputs": [],
   "source": [
    "plt.figure(figsize=(8,8))\n",
    "plt.scatter(y_test, y_pred, c=\"#7ea0c3\")\n",
    "plt.yscale('log')\n",
    "plt.xscale('log')\n",
    "\n",
    "p1 = max(max(y_pred), max(y_test))\n",
    "p2 = min(min(y_pred), min(y_test))\n",
    "plt.plot([p1, p2], [p1, p2], \"k-\")\n",
    "plt.xlabel('True Values', fontsize=10)\n",
    "plt.ylabel('Predictions', fontsize=10)\n",
    "plt.axis('equal')\n",
    "plt.show()"
   ]
  },
  {
   "cell_type": "code",
   "execution_count": null,
   "metadata": {
    "execution": {
     "iopub.execute_input": "2022-05-06T12:47:52.722944Z",
     "iopub.status.busy": "2022-05-06T12:47:52.722684Z",
     "iopub.status.idle": "2022-05-06T12:48:13.306037Z",
     "shell.execute_reply": "2022-05-06T12:48:13.305127Z",
     "shell.execute_reply.started": "2022-05-06T12:47:52.722916Z"
    }
   },
   "outputs": [],
   "source": [
    "forest_reg = RandomForestRegressor(bootstrap= True,\n",
    " criterion= 'squared_error',\n",
    " max_depth= 8,\n",
    " max_features= 6,\n",
    " n_estimators= 500)\n",
    "forest_reg.fit(X_train,y_train)\n",
    "y_pred=forest_reg.predict(X_test)\n",
    "meansquarederror(y_pred, y_test)#523.874542444877"
   ]
  },
  {
   "cell_type": "code",
   "execution_count": null,
   "metadata": {},
   "outputs": [],
   "source": [
    "plt.figure(figsize=(8,8))\n",
    "plt.scatter(y_test, y_pred, c=\"#7ea0c3\")\n",
    "plt.yscale('log')\n",
    "plt.xscale('log')\n",
    "\n",
    "p1 = max(max(y_pred), max(y_test))\n",
    "p2 = min(min(y_pred), min(y_test))\n",
    "plt.plot([p1, p2], [p1, p2], \"k-\")\n",
    "plt.xlabel('True Values', fontsize=10)\n",
    "plt.ylabel('Predictions', fontsize=10)\n",
    "plt.axis('equal')\n",
    "plt.show()"
   ]
  },
  {
   "cell_type": "code",
   "execution_count": null,
   "metadata": {
    "id": "3gjMplRW276m"
   },
   "outputs": [],
   "source": [
    "RegModel=XGBRegressor(colsample_bytree= 0.7,learning_rate= 0.03,max_depth= 7,min_child_weight= 5,n_estimators= 500,nthread= 1,objective= 'reg:squarederror',subsample= 0.7)\n",
    "RegModel.fit(x,y)\n",
    "final_model = RegModel"
   ]
  },
  {
   "cell_type": "code",
   "execution_count": null,
   "metadata": {
    "id": "4u1Ctiih276p"
   },
   "outputs": [],
   "source": [
    "y_pred=final_model.predict(scaler.transform(test_df.drop(\"Id\",axis=1,inplace=False)))\n",
    "y_pred"
   ]
  },
  {
   "cell_type": "code",
   "execution_count": null,
   "metadata": {
    "id": "ZaDONaEw276q"
   },
   "outputs": [],
   "source": [
    "predictions = pd.Series(y_pred)\n",
    "pred = pd.DataFrame({\"Id\":test_df['Id'],\"price\":predictions})\n",
    "pred"
   ]
  },
  {
   "cell_type": "code",
   "execution_count": null,
   "metadata": {
    "id": "eE1SNFtK276q"
   },
   "outputs": [],
   "source": [
    "pred.to_csv(\"submission.csv\",index=False)"
   ]
  }
 ],
 "metadata": {
  "kernelspec": {
   "display_name": "Python 3",
   "language": "python",
   "name": "python3"
  },
  "language_info": {
   "codemirror_mode": {
    "name": "ipython",
    "version": 3
   },
   "file_extension": ".py",
   "mimetype": "text/x-python",
   "name": "python",
   "nbconvert_exporter": "python",
   "pygments_lexer": "ipython3",
   "version": "3.7.10"
  }
 },
 "nbformat": 4,
 "nbformat_minor": 4
}
